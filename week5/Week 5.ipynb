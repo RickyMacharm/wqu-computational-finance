{
 "cells": [
  {
   "cell_type": "markdown",
   "metadata": {},
   "source": [
    "# Submission 1: Price a Vanilla European Call Option\n",
    "\n",
    "Joe Hoong Ng (ng_joehoong@hotmail.com)\n",
    "\n",
    "Dang Duy Nghia Nguyen (nghia002@e.ntu.edu.sg)\n",
    "\n",
    "Dylan Thorne (dylan.thorne@gmail.com)\n",
    "\n",
    "Zain Us Sami Ahmed Ansari (zainussami@gmail.com)\t\n",
    "\n",
    "In this submission we price a vanilla European call option and we allow the volatility term to vary."
   ]
  },
  {
   "cell_type": "markdown",
   "metadata": {},
   "source": [
    "#### Part 1 : Using a simple Fourier pricing technique, price a vanilla call option assuming that the underlying share follows the Heston model dynamics."
   ]
  },
  {
   "cell_type": "code",
   "execution_count": 1,
   "metadata": {},
   "outputs": [],
   "source": [
    "#Import Libraries\n",
    "import numpy as np\n",
    "import pandas as pd\n",
    "from scipy import stats\n",
    "from scipy.stats import norm\n",
    "import matplotlib.pyplot as plt"
   ]
  },
  {
   "cell_type": "markdown",
   "metadata": {},
   "source": [
    "Black-Scholes option pricing models assumed volatility of the underlying assets to be constant or a predetermined function of time, we will now implement a model which features instantaneous variance of asset price using volatility that evolves stochastically in time.  Although there are several models incorporating stochastic volatility including introduced by Hull and White [1], Stein and Stein [2] and  Heston [3] [4],  we will implement Heston’s constant interest rate model."
   ]
  },
  {
   "cell_type": "code",
   "execution_count": 2,
   "metadata": {},
   "outputs": [],
   "source": [
    "#Share Specific Information\n",
    "r = 0.08 #risk-free continuously compounded interest rate \n",
    "S0 = 100 #current share price \n",
    "v0 = 0.06\n",
    "kappa = 9\n",
    "theta = 0.06\n",
    "sigma = 0.3\n",
    "rho = -0.4\n",
    "\n",
    "#Call Specific Information\n",
    "K = 100\n",
    "T = 1\n",
    "k_log = np.log(K)\n",
    "\n",
    "#Approximation Information\n",
    "\n",
    "t_max = 30\n",
    "N = 100"
   ]
  },
  {
   "cell_type": "markdown",
   "metadata": {},
   "source": [
    "The Characteristic function is implemented using a function presented by Albrecher et al [5].  The function is written as:\n",
    "$$\\phi_{S_T} = exp(C(\\tau;u)+D(\\tau;u)v_t + iu \\log(S_t) )$$\n",
    "\n",
    "Where,\n",
    "\n",
    "$$C(\\tau;u) = ri\\tau u + \\theta \\kappa [\\tau x\\_ - \\frac{1}{a}\\log(\\frac{1-ge^{d\\tau}}{1-g})],$$\n",
    "\n",
    "$$D(\\tau;u) = (\\frac{1-e^{d\\tau}}{1-ge^{d\\tau}})x\\_,$$\n",
    "\n",
    "$$\\tau = T -t ,$$\n",
    "\n",
    "$$ g = \\frac{x\\_}{x_+},$$\n",
    "\n",
    "$$ x_\\pm = \\frac{b\\pm d}{2a},$$\n",
    "\n",
    "$$ d = \\sqrt{b^2 - 4ac},$$\n",
    "\n",
    "$$ c = - \\frac{u^2 + Ui}{2},$$\n",
    "\n",
    "$$ b = \\kappa - \\rho \\sigma iu,$$\n",
    "\n",
    "$$ a = \\frac {\\sigma^2}{2}$$"
   ]
  },
  {
   "cell_type": "code",
   "execution_count": 3,
   "metadata": {},
   "outputs": [],
   "source": [
    "#Characteristic function code\n",
    "\n",
    "a = sigma**2/2\n",
    "\n",
    "def b(u):\n",
    "    return kappa - rho*sigma*1j*u\n",
    "\n",
    "def c(u):\n",
    "    return -(u**2+1j*u)/2\n",
    "\n",
    "def d(u):\n",
    "    return np.sqrt(b(u)**2-4*a*c(u))\n",
    "\n",
    "def xminus(u):\n",
    "    return (b(u)-d(u))/(2*a)\n",
    "\n",
    "def xplus(u):\n",
    "    return (b(u)+d(u))/(2*a)\n",
    "\n",
    "def g(u):\n",
    "    return xminus(u)/xplus(u)\n",
    "\n",
    "def C(u):\n",
    "    val1 = T*xminus(u)-np.log((1-g(u)*np.exp(-T*d(u)))/(1-g(u)))/a\n",
    "    return r*T*1j*u + theta*kappa*val1\n",
    "\n",
    "def D(u):\n",
    "    val1 = 1-np.exp(-T*d(u))\n",
    "    val2 = 1-g(u)*np.exp(-T*d(u))\n",
    "    return (val1/val2)*xminus(u)\n",
    "\n",
    "def log_char(u):\n",
    "    return np.exp(C(u) + D(u)*v0 + 1j*u*np.log(S0))\n",
    "\n",
    "def adj_char(u):\n",
    "    return log_char(u-1j)/log_char(-1j)"
   ]
  },
  {
   "cell_type": "markdown",
   "metadata": {},
   "source": [
    "Now we vectorize the code, calculate an estimate for integrals and calculate the Fourier estimate of our call price."
   ]
  },
  {
   "cell_type": "code",
   "execution_count": 4,
   "metadata": {},
   "outputs": [
    {
     "data": {
      "text/plain": [
       "13.734895692109049"
      ]
     },
     "execution_count": 4,
     "metadata": {},
     "output_type": "execute_result"
    }
   ],
   "source": [
    "delta_t = t_max/N\n",
    "from_1_to_N = np.linspace(1,N,N)\n",
    "t_n = (from_1_to_N-1/2)*delta_t\n",
    "\n",
    "#Integral calculations\n",
    "first_integral = sum((((np.exp(-1j*t_n*k_log)*adj_char(t_n)).imag)/t_n)*delta_t)\n",
    "second_integral = sum((((np.exp(-1j*t_n*k_log)*log_char(t_n)).imag)/t_n)*delta_t)\n",
    "\n",
    "#Call value\n",
    "fourier_call_val = S0*(1/2 + first_integral/np.pi)-np.exp(-r*T)*K*(1/2 + second_integral/np.pi)\n",
    "fourier_call_val"
   ]
  },
  {
   "cell_type": "markdown",
   "metadata": {},
   "source": [
    "# Part 2"
   ]
  },
  {
   "cell_type": "markdown",
   "metadata": {},
   "source": [
    "Assume that $\\sigma(t_i,t_{i+1}) = \\sigma(S_{ti})^{\\gamma-1}$, where $\\sigma = 0.3$ and $\\gamma = 0.75$. Using the formula below, simulate paths for the underlying share using sample sizes of 1000, 2000, …, 50000. Perform monthly simulations for a period of a year. We can simulate the next step in a share price path using the following formula:\n",
    "$$S_{t_{i+1}} = S_{t_i}e^{(r - \\frac{\\sigma^2 (t_i,t_{i+1})}{2})(t_{i+1}-t_i)+\\sigma(t_i, t_{i+1})\\sqrt{t_{i+1}-t_i}Z}$$\n",
    "where $S_{ti}$ is the share price at time $t_i$, $\\sigma(t_i, t_{i+1})$ is the volatility for the period $[t_i,t_{i+1}]$, r is the risk-free interest rate, and Z~N(0, 1)"
   ]
  },
  {
   "cell_type": "markdown",
   "metadata": {},
   "source": [
    "Note that we are attempting to run simulations using the CEV model. However, while the CEV model assumes that volatility is a continuous function of time and share price, we are making a simplifying assumption that volatility is constant over each simulation period."
   ]
  },
  {
   "cell_type": "code",
   "execution_count": 5,
   "metadata": {},
   "outputs": [],
   "source": [
    "#from question\n",
    "sigma_const = 0.30\n",
    "gamma = 0.75\n",
    "\n",
    "#assumption\n",
    "r = 0.08\n",
    "S0 = 100\n",
    "T = 1\n",
    "sample_sizes = range(1000, 50001, 1000)\n",
    "\n",
    "timesteps = 12"
   ]
  },
  {
   "cell_type": "markdown",
   "metadata": {},
   "source": [
    "First, we define our helper functions. The next_share_price function is used to calculate the evolution of the share price at t+1, from the share price at t. We generate the random variable Z from within this function. The effective sigma is also written as a function of the share price at t. \n",
    "\n",
    "Just for exploration purposes, we also added a varying_vol flag, to allow us to switch between a constant volatility and varying volatility. We use the initial stock price instead of the previous price when assuming a contant volatility.\n",
    "\n",
    "The other function is the generate_share_price_path function. We first create an empty numpy array of shape (sample_size x timesteps+1). Note the addition of one element to the timestep, as the first element is equal to the initial stock price. We then iterate through each path, and each timestep, applying the next_share_price function against the previous share price. We then convert the result into a pandas DataFrame and return the results."
   ]
  },
  {
   "cell_type": "code",
   "execution_count": 6,
   "metadata": {},
   "outputs": [],
   "source": [
    "def next_share_price(prev_price, r, dT, sigma_const, gamma, sample_size, varying_vol = True):\n",
    "    Z = stats.norm.rvs(size=sample_size)\n",
    "    if varying_vol:\n",
    "        sigma = sigma_const*(prev_price)**(gamma-1)\n",
    "    else:\n",
    "        sigma = sigma_const*(S0)**(gamma-1)\n",
    "        \n",
    "    return prev_price*np.exp((r-(sigma**2)/2)*(dT)+(sigma)*(np.sqrt(dT))*Z)\n",
    "\n",
    "def generate_share_price_path(S0, r, T, sigma_const, gamma, sample_size, timesteps, varying_vol = True):\n",
    "    df = pd.DataFrame([S0]*sample_size)\n",
    "    for t in range(1, timesteps+1):\n",
    "        df[t] = next_share_price(df[t-1], r, 1/timesteps, sigma_const, gamma, sample_size, varying_vol)\n",
    "    return df.T"
   ]
  },
  {
   "cell_type": "code",
   "execution_count": 7,
   "metadata": {},
   "outputs": [
    {
     "data": {
      "image/png": "[encoded data removed]",
      "text/plain": [
       "<Figure size 432x288 with 1 Axes>"
      ]
     },
     "metadata": {
      "needs_background": "light"
     },
     "output_type": "display_data"
    }
   ],
   "source": [
    "import matplotlib.patches as mpatches\n",
    "T = 10\n",
    "sample_size = 20\n",
    "\n",
    "share_price_path_cev = generate_share_price_path(S0, r, T, sigma_const, gamma, sample_size, timesteps)\n",
    "share_price_path_black_scholes = generate_share_price_path(S0, r, T, sigma_const, 1.0, sample_size, timesteps, varying_vol=False)\n",
    "\n",
    "plt.plot(share_price_path_cev, color='red')\n",
    "plt.plot(share_price_path_black_scholes, color='blue')\n",
    "plt.xlabel(\"Timestep\")\n",
    "plt.ylabel(\"Share price\")\n",
    "red_patch = mpatches.Patch(color='red', label='CEV')\n",
    "blue_patch = mpatches.Patch(color='blue', label='BSM')\n",
    "plt.legend(handles=[red_patch, blue_patch], loc='upper left')\n",
    "plt.title(\"CEV vs Black-Scholes stock price paths\")\n",
    "plt.show()"
   ]
  },
  {
   "cell_type": "markdown",
   "metadata": {},
   "source": [
    "Next, we create a python dictionary called share_price_paths, to hold our results for part 2. The key of this dictionary would be the number of sample price paths, while the values would be the dataframes containing the price paths. We also track the rough processing time required at each step, by printing the time when each iteration completes."
   ]
  },
  {
   "cell_type": "code",
   "execution_count": null,
   "metadata": {},
   "outputs": [
    {
     "name": "stdout",
     "output_type": "stream",
     "text": [
      "Start generating share price path\n"
     ]
    }
   ],
   "source": [
    "import time\n",
    "\n",
    "T = 1\n",
    "sample_sizes = range(1000, 50001, 1000)\n",
    "\n",
    "share_price_paths = {}\n",
    "\n",
    "print(\"Start generating share price path\")\n",
    "start = time.time()\n",
    "for sample_size in sample_sizes:\n",
    "    share_val = generate_share_price_path(S0, r, T, sigma_const, gamma, sample_size, timesteps, varying_vol=False) \n",
    "     \n",
    "    share_price_paths[sample_size] = share_val\n",
    "    #print(\"Updated for sample size {} at {}\".format(sample_size, datetime.datetime.now().strftime('%H:%M')))\n",
    "end = time.time()\n",
    "print(f\"Generating all samples paths takes {(end - start):.2f}s\")"
   ]
  },
  {
   "cell_type": "markdown",
   "metadata": {},
   "source": [
    "To display our output, we show the first 10 price paths generated by our iteration with 1000 samples:"
   ]
  },
  {
   "cell_type": "code",
   "execution_count": null,
   "metadata": {},
   "outputs": [],
   "source": [
    "share_price_paths[1000].iloc[:, 0:10]"
   ]
  },
  {
   "cell_type": "markdown",
   "metadata": {},
   "source": [
    "Next, we plot the price paths for the iteration with 1000 samples, "
   ]
  },
  {
   "cell_type": "code",
   "execution_count": null,
   "metadata": {},
   "outputs": [],
   "source": [
    "plt.plot(share_price_paths[1000])\n",
    "plt.xlabel('Timestep')\n",
    "plt.ylabel('Share price')\n",
    "plt.title('Sample of 1000 share price paths')\n",
    "plt.show()"
   ]
  },
  {
   "cell_type": "markdown",
   "metadata": {},
   "source": [
    "# Part 3"
   ]
  },
  {
   "cell_type": "markdown",
   "metadata": {},
   "source": [
    "Using Monte Carlo, we calculate the price of the vanilla call option as follows:"
   ]
  },
  {
   "cell_type": "code",
   "execution_count": null,
   "metadata": {},
   "outputs": [],
   "source": [
    "price_estimate = []\n",
    "price_std = []\n",
    "\n",
    "\n",
    "for size in sample_sizes:\n",
    "    S_Ts = share_price_paths[size].iloc[12, :]\n",
    "    payoff = np.maximum(S_Ts - K, 0)\n",
    "    discounted_price = np.exp(-r*T)*payoff\n",
    "    price_estimate.append(discounted_price.mean())\n",
    "    price_std.append(discounted_price.std()/np.sqrt(size))"
   ]
  },
  {
   "cell_type": "code",
   "execution_count": null,
   "metadata": {},
   "outputs": [],
   "source": [
    "print(\"The price estimated by Monte Carlo when using sample size of 50,000 is : {:.3f}\".format(price_estimate[-1])) "
   ]
  },
  {
   "cell_type": "markdown",
   "metadata": {},
   "source": [
    "### Comparison with calculation of CEV model using noncentral chi-squared distribution "
   ]
  },
  {
   "cell_type": "code",
   "execution_count": null,
   "metadata": {},
   "outputs": [],
   "source": [
    "import numpy as np\n",
    "import matplotlib.pyplot as plt\n",
    "from scipy.stats import ncx2\n",
    "\n",
    "S0 = 100\n",
    "sigma = 0.3\n",
    "gamma = 0.75\n",
    "r = 0.08\n",
    "T = 1"
   ]
  },
  {
   "cell_type": "code",
   "execution_count": null,
   "metadata": {},
   "outputs": [],
   "source": [
    "z = 2 + 1/(1-gamma)\n",
    "def C(t,K):\n",
    "    kappa = 2*r/(sigma**2*(1-gamma)*(np.exp(2*r*(1-gamma)*t)-1))\n",
    "    x = kappa*S0**(2*(1-gamma))*np.exp(2*r*(1-gamma)*t)\n",
    "    y = kappa*K**(2*(1-gamma))\n",
    "    return S0*(1-ncx2.cdf(y,z,x))-K*np.exp(-r*t)*ncx2.cdf(x,z-2,y)"
   ]
  },
  {
   "cell_type": "code",
   "execution_count": null,
   "metadata": {},
   "outputs": [],
   "source": [
    "cev_call_price = C(T, 100)"
   ]
  },
  {
   "cell_type": "code",
   "execution_count": null,
   "metadata": {},
   "outputs": [],
   "source": [
    "print(\"The price calculated via CEV model using noncentral chi-squared distribution is : {:.3f}\".format(cev_call_price))"
   ]
  },
  {
   "cell_type": "markdown",
   "metadata": {},
   "source": [
    "# Part 4"
   ]
  },
  {
   "cell_type": "markdown",
   "metadata": {},
   "source": [
    "We plot the prices of our Monte Carlo estimates against the CEV noncentral chi-squared distribution prices calculated from Part 1 above:"
   ]
  },
  {
   "cell_type": "code",
   "execution_count": null,
   "metadata": {},
   "outputs": [],
   "source": [
    "plt.plot([cev_call_price]*50, label='CEV call price')\n",
    "plt.plot(price_estimate, '.', label='Monte Carlo estimates')\n",
    "plt.plot(price_estimate + 3*np.array(price_std), 'r')\n",
    "plt.plot(price_estimate - 3*np.array(price_std), 'r')\n",
    "plt.show()"
   ]
  },
  {
   "cell_type": "markdown",
   "metadata": {},
   "source": [
    "We also plot the prices of our Monte Carlo estimates against the Fourier Call prices calculated from Part 1 above:"
   ]
  },
  {
   "cell_type": "code",
   "execution_count": null,
   "metadata": {},
   "outputs": [],
   "source": [
    "plt.plot([fourier_call_val]*50, label='Fourier Call price')\n",
    "plt.plot(price_estimate, '.', label='Monte Carlo estimates')\n",
    "plt.plot(price_estimate + 3*np.array(price_std), 'r')\n",
    "plt.plot(price_estimate - 3*np.array(price_std), 'r')\n",
    "plt.show()"
   ]
  },
  {
   "cell_type": "markdown",
   "metadata": {},
   "source": [
    "We notice that there is a discrepency. Upon further investigation, for the Heston model, v_0 = 0.06 (v_0 = stock volatility ^ 0.5), so stock volatility = .06**0.5= 0.2449. Note that sigma under Heston model refers to volatility of stock volatility\n",
    "\n",
    "Under our stock price Monte Carlo calculation, the default stock volatility is 0.0948 (given by  0.3*(100)*-.25 ). Thus its much less than Heston. To have the same initial stock volatility, we find a new value for $\\sigma$ by equating $\\sigma(S_{ti})^{\\gamma-1} = \\sqrt{0.06}$, giving us $\\sigma = 0.775$. \n",
    "\n",
    "We then find that our newly calculated Monte Carlo calculated call prices are aligned with the Fourier prices."
   ]
  },
  {
   "cell_type": "code",
   "execution_count": null,
   "metadata": {},
   "outputs": [],
   "source": [
    "sigma_const = 0.775\n",
    "\n",
    "T = 1\n",
    "sample_sizes = range(1000, 50001, 1000)\n",
    "\n",
    "share_price_paths = {}\n",
    "\n",
    "print(\"Start generating share price path\")\n",
    "start = time.time()\n",
    "for sample_size in sample_sizes:\n",
    "    share_val = generate_share_price_path(S0, r, T, sigma_const, gamma, sample_size, timesteps, varying_vol=False) \n",
    "     \n",
    "    share_price_paths[sample_size] = share_val\n",
    "    #print(\"Updated for sample size {} at {}\".format(sample_size, datetime.datetime.now().strftime('%H:%M')))\n",
    "end = time.time()\n",
    "print(f\"Generating all samples paths takes {(end - start):.2f}s\")"
   ]
  },
  {
   "cell_type": "code",
   "execution_count": null,
   "metadata": {},
   "outputs": [],
   "source": [
    "price_estimate = []\n",
    "price_std = []\n",
    "\n",
    "\n",
    "for size in sample_sizes:\n",
    "    S_Ts = share_price_paths[size].iloc[12, :]\n",
    "    payoff = np.maximum(S_Ts - K, 0)\n",
    "    discounted_price = np.exp(-r*T)*payoff\n",
    "    price_estimate.append(discounted_price.mean())\n",
    "    price_std.append(discounted_price.std()/np.sqrt(size))"
   ]
  },
  {
   "cell_type": "code",
   "execution_count": null,
   "metadata": {},
   "outputs": [],
   "source": [
    "plt.plot([fourier_call_val]*50, label='Fourier Call price')\n",
    "plt.plot(price_estimate, '.', label='Monte Carlo estimates')\n",
    "plt.plot(price_estimate + 3*np.array(price_std), 'r')\n",
    "plt.plot(price_estimate - 3*np.array(price_std), 'r')\n",
    "plt.show()"
   ]
  },
  {
   "cell_type": "markdown",
   "metadata": {},
   "source": [
    "### References"
   ]
  },
  {
   "cell_type": "markdown",
   "metadata": {},
   "source": [
    "[1] Hull, J. and White, A. (1987). The pricing of options on assets with stochastic volatilities. The journal of finance, 42(2):281–300.\n",
    "\n",
    "[2] Stein, E. M. and Stein, J. C. (1991). Stock price distributions with stochastic volatility: an analytic approach. Review of financial Studies, 4(4):727–752.\n",
    "\n",
    "[3] Heston, S. L. (1993). A closed-form solution for options with stochastic volatility with applications to bond and currency options. Review of financial studies, 6(2):327–343. \n",
    "\n",
    "[4] Heston, S. L. (1997). A simple new formula for options with stochastic volatility. \n",
    "\n",
    "[5] Albrecher, H., Mayer, P., Schoutens, W. and Tistaert, J. (2007). “The Little Heston Trap”, Wilmott (1): 83–92.\n",
    "\n",
    "\n"
   ]
  }
 ],
 "metadata": {
  "kernelspec": {
   "display_name": "Python 3",
   "language": "python",
   "name": "python3"
  },
  "language_info": {
   "codemirror_mode": {
    "name": "ipython",
    "version": 3
   },
   "file_extension": ".py",
   "mimetype": "text/x-python",
   "name": "python",
   "nbconvert_exporter": "python",
   "pygments_lexer": "ipython3",
   "version": "3.7.6"
  }
 },
 "nbformat": 4,
 "nbformat_minor": 4
}
